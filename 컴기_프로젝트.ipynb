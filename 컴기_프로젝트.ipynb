{
  "nbformat": 4,
  "nbformat_minor": 0,
  "metadata": {
    "colab": {
      "provenance": []
    },
    "kernelspec": {
      "name": "python3",
      "display_name": "Python 3"
    },
    "language_info": {
      "name": "python"
    }
  },
  "cells": [
    {
      "cell_type": "code",
      "source": [
        "!pip install streamlit"
      ],
      "metadata": {
        "colab": {
          "base_uri": "https://localhost:8080/"
        },
        "id": "WNsrNVjlkB0F",
        "outputId": "07b009cf-d992-4124-aca0-874391e7dc39"
      },
      "execution_count": 1,
      "outputs": [
        {
          "output_type": "stream",
          "name": "stdout",
          "text": [
            "Collecting streamlit\n",
            "  Downloading streamlit-1.40.1-py2.py3-none-any.whl.metadata (8.5 kB)\n",
            "Requirement already satisfied: altair<6,>=4.0 in /usr/local/lib/python3.10/dist-packages (from streamlit) (4.2.2)\n",
            "Requirement already satisfied: blinker<2,>=1.0.0 in /usr/local/lib/python3.10/dist-packages (from streamlit) (1.9.0)\n",
            "Requirement already satisfied: cachetools<6,>=4.0 in /usr/local/lib/python3.10/dist-packages (from streamlit) (5.5.0)\n",
            "Requirement already satisfied: click<9,>=7.0 in /usr/local/lib/python3.10/dist-packages (from streamlit) (8.1.7)\n",
            "Requirement already satisfied: numpy<3,>=1.20 in /usr/local/lib/python3.10/dist-packages (from streamlit) (1.26.4)\n",
            "Requirement already satisfied: packaging<25,>=20 in /usr/local/lib/python3.10/dist-packages (from streamlit) (24.2)\n",
            "Requirement already satisfied: pandas<3,>=1.4.0 in /usr/local/lib/python3.10/dist-packages (from streamlit) (2.2.2)\n",
            "Requirement already satisfied: pillow<12,>=7.1.0 in /usr/local/lib/python3.10/dist-packages (from streamlit) (11.0.0)\n",
            "Requirement already satisfied: protobuf<6,>=3.20 in /usr/local/lib/python3.10/dist-packages (from streamlit) (4.25.5)\n",
            "Requirement already satisfied: pyarrow>=7.0 in /usr/local/lib/python3.10/dist-packages (from streamlit) (17.0.0)\n",
            "Requirement already satisfied: requests<3,>=2.27 in /usr/local/lib/python3.10/dist-packages (from streamlit) (2.32.3)\n",
            "Requirement already satisfied: rich<14,>=10.14.0 in /usr/local/lib/python3.10/dist-packages (from streamlit) (13.9.4)\n",
            "Requirement already satisfied: tenacity<10,>=8.1.0 in /usr/local/lib/python3.10/dist-packages (from streamlit) (9.0.0)\n",
            "Requirement already satisfied: toml<2,>=0.10.1 in /usr/local/lib/python3.10/dist-packages (from streamlit) (0.10.2)\n",
            "Requirement already satisfied: typing-extensions<5,>=4.3.0 in /usr/local/lib/python3.10/dist-packages (from streamlit) (4.12.2)\n",
            "Requirement already satisfied: gitpython!=3.1.19,<4,>=3.0.7 in /usr/local/lib/python3.10/dist-packages (from streamlit) (3.1.43)\n",
            "Collecting pydeck<1,>=0.8.0b4 (from streamlit)\n",
            "  Downloading pydeck-0.9.1-py2.py3-none-any.whl.metadata (4.1 kB)\n",
            "Requirement already satisfied: tornado<7,>=6.0.3 in /usr/local/lib/python3.10/dist-packages (from streamlit) (6.3.3)\n",
            "Collecting watchdog<7,>=2.1.5 (from streamlit)\n",
            "  Downloading watchdog-6.0.0-py3-none-manylinux2014_x86_64.whl.metadata (44 kB)\n",
            "\u001b[2K     \u001b[90m━━━━━━━━━━━━━━━━━━━━━━━━━━━━━━━━━━━━━━━━\u001b[0m \u001b[32m44.3/44.3 kB\u001b[0m \u001b[31m1.5 MB/s\u001b[0m eta \u001b[36m0:00:00\u001b[0m\n",
            "\u001b[?25hRequirement already satisfied: entrypoints in /usr/local/lib/python3.10/dist-packages (from altair<6,>=4.0->streamlit) (0.4)\n",
            "Requirement already satisfied: jinja2 in /usr/local/lib/python3.10/dist-packages (from altair<6,>=4.0->streamlit) (3.1.4)\n",
            "Requirement already satisfied: jsonschema>=3.0 in /usr/local/lib/python3.10/dist-packages (from altair<6,>=4.0->streamlit) (4.23.0)\n",
            "Requirement already satisfied: toolz in /usr/local/lib/python3.10/dist-packages (from altair<6,>=4.0->streamlit) (0.12.1)\n",
            "Requirement already satisfied: gitdb<5,>=4.0.1 in /usr/local/lib/python3.10/dist-packages (from gitpython!=3.1.19,<4,>=3.0.7->streamlit) (4.0.11)\n",
            "Requirement already satisfied: python-dateutil>=2.8.2 in /usr/local/lib/python3.10/dist-packages (from pandas<3,>=1.4.0->streamlit) (2.8.2)\n",
            "Requirement already satisfied: pytz>=2020.1 in /usr/local/lib/python3.10/dist-packages (from pandas<3,>=1.4.0->streamlit) (2024.2)\n",
            "Requirement already satisfied: tzdata>=2022.7 in /usr/local/lib/python3.10/dist-packages (from pandas<3,>=1.4.0->streamlit) (2024.2)\n",
            "Requirement already satisfied: charset-normalizer<4,>=2 in /usr/local/lib/python3.10/dist-packages (from requests<3,>=2.27->streamlit) (3.4.0)\n",
            "Requirement already satisfied: idna<4,>=2.5 in /usr/local/lib/python3.10/dist-packages (from requests<3,>=2.27->streamlit) (3.10)\n",
            "Requirement already satisfied: urllib3<3,>=1.21.1 in /usr/local/lib/python3.10/dist-packages (from requests<3,>=2.27->streamlit) (2.2.3)\n",
            "Requirement already satisfied: certifi>=2017.4.17 in /usr/local/lib/python3.10/dist-packages (from requests<3,>=2.27->streamlit) (2024.8.30)\n",
            "Requirement already satisfied: markdown-it-py>=2.2.0 in /usr/local/lib/python3.10/dist-packages (from rich<14,>=10.14.0->streamlit) (3.0.0)\n",
            "Requirement already satisfied: pygments<3.0.0,>=2.13.0 in /usr/local/lib/python3.10/dist-packages (from rich<14,>=10.14.0->streamlit) (2.18.0)\n",
            "Requirement already satisfied: smmap<6,>=3.0.1 in /usr/local/lib/python3.10/dist-packages (from gitdb<5,>=4.0.1->gitpython!=3.1.19,<4,>=3.0.7->streamlit) (5.0.1)\n",
            "Requirement already satisfied: MarkupSafe>=2.0 in /usr/local/lib/python3.10/dist-packages (from jinja2->altair<6,>=4.0->streamlit) (3.0.2)\n",
            "Requirement already satisfied: attrs>=22.2.0 in /usr/local/lib/python3.10/dist-packages (from jsonschema>=3.0->altair<6,>=4.0->streamlit) (24.2.0)\n",
            "Requirement already satisfied: jsonschema-specifications>=2023.03.6 in /usr/local/lib/python3.10/dist-packages (from jsonschema>=3.0->altair<6,>=4.0->streamlit) (2024.10.1)\n",
            "Requirement already satisfied: referencing>=0.28.4 in /usr/local/lib/python3.10/dist-packages (from jsonschema>=3.0->altair<6,>=4.0->streamlit) (0.35.1)\n",
            "Requirement already satisfied: rpds-py>=0.7.1 in /usr/local/lib/python3.10/dist-packages (from jsonschema>=3.0->altair<6,>=4.0->streamlit) (0.21.0)\n",
            "Requirement already satisfied: mdurl~=0.1 in /usr/local/lib/python3.10/dist-packages (from markdown-it-py>=2.2.0->rich<14,>=10.14.0->streamlit) (0.1.2)\n",
            "Requirement already satisfied: six>=1.5 in /usr/local/lib/python3.10/dist-packages (from python-dateutil>=2.8.2->pandas<3,>=1.4.0->streamlit) (1.16.0)\n",
            "Downloading streamlit-1.40.1-py2.py3-none-any.whl (8.6 MB)\n",
            "\u001b[2K   \u001b[90m━━━━━━━━━━━━━━━━━━━━━━━━━━━━━━━━━━━━━━━━\u001b[0m \u001b[32m8.6/8.6 MB\u001b[0m \u001b[31m25.2 MB/s\u001b[0m eta \u001b[36m0:00:00\u001b[0m\n",
            "\u001b[?25hDownloading pydeck-0.9.1-py2.py3-none-any.whl (6.9 MB)\n",
            "\u001b[2K   \u001b[90m━━━━━━━━━━━━━━━━━━━━━━━━━━━━━━━━━━━━━━━━\u001b[0m \u001b[32m6.9/6.9 MB\u001b[0m \u001b[31m51.8 MB/s\u001b[0m eta \u001b[36m0:00:00\u001b[0m\n",
            "\u001b[?25hDownloading watchdog-6.0.0-py3-none-manylinux2014_x86_64.whl (79 kB)\n",
            "\u001b[2K   \u001b[90m━━━━━━━━━━━━━━━━━━━━━━━━━━━━━━━━━━━━━━━━\u001b[0m \u001b[32m79.1/79.1 kB\u001b[0m \u001b[31m3.5 MB/s\u001b[0m eta \u001b[36m0:00:00\u001b[0m\n",
            "\u001b[?25hInstalling collected packages: watchdog, pydeck, streamlit\n",
            "Successfully installed pydeck-0.9.1 streamlit-1.40.1 watchdog-6.0.0\n"
          ]
        }
      ]
    },
    {
      "cell_type": "code",
      "source": [
        "!npm install localtunnel"
      ],
      "metadata": {
        "colab": {
          "base_uri": "https://localhost:8080/"
        },
        "id": "KlxRM-C0kHxz",
        "outputId": "3d077026-4022-4ad6-e30e-cbca910f8d8d"
      },
      "execution_count": 2,
      "outputs": [
        {
          "output_type": "stream",
          "name": "stdout",
          "text": [
            "\u001b[K\u001b[?25h\n",
            "added 22 packages, and audited 23 packages in 3s\n",
            "\n",
            "3 packages are looking for funding\n",
            "  run `npm fund` for details\n",
            "\n",
            "2 \u001b[33m\u001b[1mmoderate\u001b[22m\u001b[39m severity vulnerabilities\n",
            "\n",
            "To address all issues, run:\n",
            "  npm audit fix\n",
            "\n",
            "Run `npm audit` for details.\n"
          ]
        }
      ]
    },
    {
      "cell_type": "code",
      "execution_count": null,
      "metadata": {
        "colab": {
          "base_uri": "https://localhost:8080/"
        },
        "id": "X7DhK9-Djxdn",
        "outputId": "c29ae15e-5bb2-4d95-f8fb-5e9aaeac4452"
      },
      "outputs": [
        {
          "output_type": "stream",
          "name": "stdout",
          "text": [
            "34.75.192.197\n",
            "your url is: https://twelve-cars-rest.loca.lt\n"
          ]
        }
      ],
      "source": [
        "!streamlit run app.py &>/content/logs.txt & npx localtunnel --port 8501 & curl ipv4.icanhazip.com"
      ]
    },
    {
      "cell_type": "code",
      "source": [
        "%%writefile app.py\n",
        "import streamlit as st\n",
        "import pandas as pd\n",
        "import csv\n",
        "\n",
        "st.title(\"컴기를 위한 설문지입니다. \")\n",
        "\n",
        "# 섹션 1: 기본 정보\n",
        "st.header(\"1. 기본 정보\")\n",
        "name = st.text_input(\"이름을 입력하세요:\")\n",
        "gender = st.radio(\"성별을 선택하세요:\", (\"남성\", \"여성\", \"기타\"))\n",
        "age = st.number_input(\"만 나이를 입력하세요:\", min_value=0, max_value=120, step=1)\n",
        "major = st.text_input(\"학과를 입력하세요(공식명칭으로 써주세요. 예: 아시아언어문명학부):\")\n",
        "residence = st.radio(\"주거 형태를 선택하세요:\", (\"자취\", \"기숙사\", \"통학\",\"기타\"))\n",
        "\n",
        "# 섹션 2: 수입원\n",
        "st.header(\"2. 수입원\")\n",
        "work_hour = st.number_input(\"일주일 기준 총 알바 시간이 얼마인가요? (단위: 시간)\")\n",
        "salary = st.number_input(\"한달에 알바를 통해 받는 돈은 얼마인가요?(단위: 만 원)\")\n",
        "work_satisfaction =st.slider(\"알바에 대한 만족도는 얼마인가요? (1: 매우 불만족, 10: 매우 만족):\", 1, 5)\n",
        "pocketmoney = st.number_input(\"월 평균 용돈은 얼마인가요? (단위: 만 원)\")\n",
        "\n",
        "\n",
        "# 섹션 3:\n",
        "st.header(\"3. 지출\")\n",
        "food = st.number_input(\"월 평균 식비 지출은 얼마인가요? (단위: 만원)\")\n",
        "transportation = st.number_input(\"월 평균 교통 지출은 얼마인가요? (단위: 만원)\")\n",
        "house = st.number_input(\"월세는 얼마인가요?(관리비 포함) (단위: 만원)\")\n",
        "living_etc = st.number_input(\"기타 생활비 지출은 얼마인가요? (단위: 만 원)\")\n",
        "saving = st.number_input(\"월 저축은 얼마인가요? (단위: 만 원)\")\n",
        "leisure = st.number_input(\"월 평균 여가비 지출은 평균적으로 얼마인가요? (커피, (단위: 만 원)\")\n",
        "sudden = st.number_input(\"월 평균 충동 구매 횟수는 얼마인가요? (사지 않아도 되는 2만원 이상의 구매?)\")\n",
        "\n",
        "# 섹션 4:만족도\n",
        "st.header(\"4. 만족도\")\n",
        "satisfaction = st.slider(\"경제적 만족도 (1: 매우 불만족, 10: 매우 만족):\", 1, 5)\n",
        "reason = st.text_area(\"만족도에 대한 이유를 간결하게 적어주세요. \")\n",
        "\n",
        "\n",
        "# 데이터 저장\n",
        "if st.button(\"제출\"):\n",
        "  # 제출된 데이터를 딕셔너리로 저장\n",
        "  response_data = {\n",
        "      \"이름\": name,\n",
        "      \"나이\": age,\n",
        "      \"성별\": gender,\n",
        "      \"전공\": major,\n",
        "      \"주거형태\": residence,\n",
        "      \"알바시간\": work_hour,\n",
        "      \"월급\": salary,\n",
        "      \"알바만족도\": work_satisfaction,\n",
        "      \"용돈\": pocketmoney,\n",
        "      \"식비\":food,\n",
        "      \"교통비\":transportation,\n",
        "      \"월세\":house,\n",
        "      \"기타생활비\":living_etc,\n",
        "      \"여가비\":leisure,\n",
        "      \"월저축\":saving,\n",
        "      \"충동구매횟수\":sudden,\n",
        "      \"만족도\": satisfaction,\n",
        "      \"이유\": reason\n",
        "  }\n",
        "\n",
        "  # 데이터프레임으로 변환 (추후 저장 및 분석 용이)\n",
        "  response_df = pd.DataFrame([response_data])\n",
        "\n",
        "  # 결과 출력\n",
        "  st.write(\"제출된 데이터:\")\n",
        "  st.write(response_df)\n",
        "\n",
        "  # 파일로 저장 (선택 사항)\n",
        "  response_df.to_csv(\"survey_responses.csv\", mode=\"a\", header=False, index=False)\n",
        "  st.success(\"설문지가 제출되었습니다. 감사합니다!\")\n"
      ],
      "metadata": {
        "id": "BGFobH8tj6vJ",
        "colab": {
          "base_uri": "https://localhost:8080/"
        },
        "outputId": "9f8e0e00-2b68-4a5d-eac4-5f53a0d404fd"
      },
      "execution_count": 5,
      "outputs": [
        {
          "output_type": "stream",
          "name": "stdout",
          "text": [
            "Overwriting app.py\n"
          ]
        }
      ]
    },
    {
      "cell_type": "code",
      "source": [],
      "metadata": {
        "id": "S9kC7W2a8M7F"
      },
      "execution_count": null,
      "outputs": []
    }
  ]
}